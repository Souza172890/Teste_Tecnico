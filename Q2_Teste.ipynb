{
  "nbformat": 4,
  "nbformat_minor": 0,
  "metadata": {
    "colab": {
      "name": "Q2_Teste.ipynb",
      "provenance": [],
      "authorship_tag": "ABX9TyP9cTCYsZluwfgeAt2hMJUM",
      "include_colab_link": true
    },
    "kernelspec": {
      "name": "python3",
      "display_name": "Python 3"
    },
    "language_info": {
      "name": "python"
    }
  },
  "cells": [
    {
      "cell_type": "markdown",
      "metadata": {
        "id": "view-in-github",
        "colab_type": "text"
      },
      "source": [
        "<a href=\"https://colab.research.google.com/github/Souza172890/Teste_Tecnico/blob/main/Q2_Teste.ipynb\" target=\"_parent\"><img src=\"https://colab.research.google.com/assets/colab-badge.svg\" alt=\"Open In Colab\"/></a>"
      ]
    },
    {
      "cell_type": "code",
      "source": [
        "import io"
      ],
      "metadata": {
        "id": "W7jG_YVE2mbT"
      },
      "execution_count": 29,
      "outputs": []
    },
    {
      "cell_type": "code",
      "source": [
        "arquivo = open('DP.txt', 'r', encoding='utf-8')\n",
        "arquivo"
      ],
      "metadata": {
        "colab": {
          "base_uri": "https://localhost:8080/"
        },
        "id": "erBGBzQMkJ5n",
        "outputId": "e23db1ce-6ae9-4b00-8388-59ae7a50ad63"
      },
      "execution_count": 28,
      "outputs": [
        {
          "output_type": "execute_result",
          "data": {
            "text/plain": [
              "<_io.TextIOWrapper name='DP.txt' mode='r' encoding='utf-8'>"
            ]
          },
          "metadata": {},
          "execution_count": 28
        }
      ]
    },
    {
      "cell_type": "code",
      "source": [
        "from datetime import datetime, date, time, timezone\n",
        "\n",
        "d = date(2021, 9, 25)\n",
        "t = time(00, 30)\n",
        "datetime.combine(d, t)"
      ],
      "metadata": {
        "colab": {
          "base_uri": "https://localhost:8080/"
        },
        "id": "7TG2YjAO6OPd",
        "outputId": "32eba722-7d11-46a2-f962-66a95f2fb354"
      },
      "execution_count": 32,
      "outputs": [
        {
          "output_type": "execute_result",
          "data": {
            "text/plain": [
              "datetime.datetime(2021, 9, 25, 0, 30)"
            ]
          },
          "metadata": {},
          "execution_count": 32
        }
      ]
    },
    {
      "cell_type": "code",
      "source": [
        "datetime.now()\n",
        "datetime.now(timezone.utc)   "
      ],
      "metadata": {
        "colab": {
          "base_uri": "https://localhost:8080/"
        },
        "id": "a3caJFrq6q7N",
        "outputId": "3cd50ee4-5b91-4be7-9142-3abbbe2d42f8"
      },
      "execution_count": 33,
      "outputs": [
        {
          "output_type": "execute_result",
          "data": {
            "text/plain": [
              "datetime.datetime(2021, 12, 7, 22, 2, 8, 56033, tzinfo=datetime.timezone.utc)"
            ]
          },
          "metadata": {},
          "execution_count": 33
        }
      ]
    },
    {
      "cell_type": "code",
      "source": [
        "dt = datetime.strptime(\"25/09/21 00:00\", \"%d/%m/%y %H:%M\")\n",
        "dt"
      ],
      "metadata": {
        "colab": {
          "base_uri": "https://localhost:8080/"
        },
        "id": "TFYBwX9d7Gge",
        "outputId": "fa6964f7-f895-42dd-83f1-29574f4b77d5"
      },
      "execution_count": 37,
      "outputs": [
        {
          "output_type": "execute_result",
          "data": {
            "text/plain": [
              "datetime.datetime(2021, 9, 25, 0, 0)"
            ]
          },
          "metadata": {},
          "execution_count": 37
        }
      ]
    },
    {
      "cell_type": "code",
      "source": [
        "tt = dt.timetuple()\n",
        "for it in tt:\n",
        "  print(it)"
      ],
      "metadata": {
        "colab": {
          "base_uri": "https://localhost:8080/"
        },
        "id": "veGjWVpI8qXi",
        "outputId": "e8a317ce-b1e0-457e-b2d3-7926f9647755"
      },
      "execution_count": 38,
      "outputs": [
        {
          "output_type": "stream",
          "name": "stdout",
          "text": [
            "2021\n",
            "9\n",
            "25\n",
            "0\n",
            "0\n",
            "0\n",
            "5\n",
            "268\n",
            "-1\n"
          ]
        }
      ]
    },
    {
      "cell_type": "code",
      "source": [
        "dt.strftime(\"%A, %d. %B %Y %I:%M%p\")"
      ],
      "metadata": {
        "colab": {
          "base_uri": "https://localhost:8080/",
          "height": 35
        },
        "id": "LFjpwaHU9DAQ",
        "outputId": "6d2b9930-0c2b-452e-bbba-a1dd3e95b182"
      },
      "execution_count": 39,
      "outputs": [
        {
          "output_type": "execute_result",
          "data": {
            "application/vnd.google.colaboratory.intrinsic+json": {
              "type": "string"
            },
            "text/plain": [
              "'Saturday, 25. September 2021 12:00AM'"
            ]
          },
          "metadata": {},
          "execution_count": 39
        }
      ]
    }
  ]
}